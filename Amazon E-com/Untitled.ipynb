{
 "cells": [
  {
   "cell_type": "markdown",
   "id": "6abb897b",
   "metadata": {},
   "source": [
    "#                                      E-com Project"
   ]
  },
  {
   "cell_type": "code",
   "execution_count": null,
   "id": "fd10ff22",
   "metadata": {},
   "outputs": [],
   "source": [
    "# importing liberies "
   ]
  },
  {
   "cell_type": "code",
   "execution_count": 2,
   "id": "f7229b45",
   "metadata": {},
   "outputs": [],
   "source": [
    "import pandas as pd\n",
    "import numpy as np\n",
    "from sklearn.metrics import precision_score,recall_score,f1_score,confusion_matrix  # for checking score\n",
    "from sklearn.model_selection import train_test_split  # spliting data\n",
    "from imblearn.over_sampling import RandomOverSampler     #for oversampling the data cause data is imbalacned\n",
    "import seaborn as sns                                 #visualization\n",
    "import matplotlib.pyplot as plt"
   ]
  },
  {
   "cell_type": "code",
   "execution_count": 3,
   "id": "3621df8c",
   "metadata": {},
   "outputs": [],
   "source": [
    "#importing the data set \n",
    "\n",
    "df =  pd.read_csv(\"train_data.csv\")"
   ]
  },
  {
   "cell_type": "code",
   "execution_count": 4,
   "id": "2a79f918",
   "metadata": {},
   "outputs": [
    {
     "data": {
      "text/html": [
       "<div>\n",
       "<style scoped>\n",
       "    .dataframe tbody tr th:only-of-type {\n",
       "        vertical-align: middle;\n",
       "    }\n",
       "\n",
       "    .dataframe tbody tr th {\n",
       "        vertical-align: top;\n",
       "    }\n",
       "\n",
       "    .dataframe thead th {\n",
       "        text-align: right;\n",
       "    }\n",
       "</style>\n",
       "<table border=\"1\" class=\"dataframe\">\n",
       "  <thead>\n",
       "    <tr style=\"text-align: right;\">\n",
       "      <th></th>\n",
       "      <th>name</th>\n",
       "      <th>brand</th>\n",
       "      <th>categories</th>\n",
       "      <th>primaryCategories</th>\n",
       "      <th>reviews.date</th>\n",
       "      <th>reviews.text</th>\n",
       "      <th>reviews.title</th>\n",
       "      <th>sentiment</th>\n",
       "    </tr>\n",
       "  </thead>\n",
       "  <tbody>\n",
       "    <tr>\n",
       "      <th>0</th>\n",
       "      <td>All-New Fire HD 8 Tablet, 8\" HD Display, Wi-Fi...</td>\n",
       "      <td>Amazon</td>\n",
       "      <td>Electronics,iPad &amp; Tablets,All Tablets,Fire Ta...</td>\n",
       "      <td>Electronics</td>\n",
       "      <td>2016-12-26T00:00:00.000Z</td>\n",
       "      <td>Purchased on Black FridayPros - Great Price (e...</td>\n",
       "      <td>Powerful tablet</td>\n",
       "      <td>Positive</td>\n",
       "    </tr>\n",
       "    <tr>\n",
       "      <th>1</th>\n",
       "      <td>Amazon - Echo Plus w/ Built-In Hub - Silver</td>\n",
       "      <td>Amazon</td>\n",
       "      <td>Amazon Echo,Smart Home,Networking,Home &amp; Tools...</td>\n",
       "      <td>Electronics,Hardware</td>\n",
       "      <td>2018-01-17T00:00:00.000Z</td>\n",
       "      <td>I purchased two Amazon in Echo Plus and two do...</td>\n",
       "      <td>Amazon Echo Plus AWESOME</td>\n",
       "      <td>Positive</td>\n",
       "    </tr>\n",
       "    <tr>\n",
       "      <th>2</th>\n",
       "      <td>Amazon Echo Show Alexa-enabled Bluetooth Speak...</td>\n",
       "      <td>Amazon</td>\n",
       "      <td>Amazon Echo,Virtual Assistant Speakers,Electro...</td>\n",
       "      <td>Electronics,Hardware</td>\n",
       "      <td>2017-12-20T00:00:00.000Z</td>\n",
       "      <td>Just an average Alexa option. Does show a few ...</td>\n",
       "      <td>Average</td>\n",
       "      <td>Neutral</td>\n",
       "    </tr>\n",
       "    <tr>\n",
       "      <th>3</th>\n",
       "      <td>Fire HD 10 Tablet, 10.1 HD Display, Wi-Fi, 16 ...</td>\n",
       "      <td>Amazon</td>\n",
       "      <td>eBook Readers,Fire Tablets,Electronics Feature...</td>\n",
       "      <td>Office Supplies,Electronics</td>\n",
       "      <td>2017-08-04T00:00:00.000Z</td>\n",
       "      <td>very good product. Exactly what I wanted, and ...</td>\n",
       "      <td>Greattttttt</td>\n",
       "      <td>Positive</td>\n",
       "    </tr>\n",
       "    <tr>\n",
       "      <th>4</th>\n",
       "      <td>Brand New Amazon Kindle Fire 16gb 7\" Ips Displ...</td>\n",
       "      <td>Amazon</td>\n",
       "      <td>Computers/Tablets &amp; Networking,Tablets &amp; eBook...</td>\n",
       "      <td>Electronics</td>\n",
       "      <td>2017-01-23T00:00:00.000Z</td>\n",
       "      <td>This is the 3rd one I've purchased. I've bough...</td>\n",
       "      <td>Very durable!</td>\n",
       "      <td>Positive</td>\n",
       "    </tr>\n",
       "  </tbody>\n",
       "</table>\n",
       "</div>"
      ],
      "text/plain": [
       "                                                name   brand  \\\n",
       "0  All-New Fire HD 8 Tablet, 8\" HD Display, Wi-Fi...  Amazon   \n",
       "1        Amazon - Echo Plus w/ Built-In Hub - Silver  Amazon   \n",
       "2  Amazon Echo Show Alexa-enabled Bluetooth Speak...  Amazon   \n",
       "3  Fire HD 10 Tablet, 10.1 HD Display, Wi-Fi, 16 ...  Amazon   \n",
       "4  Brand New Amazon Kindle Fire 16gb 7\" Ips Displ...  Amazon   \n",
       "\n",
       "                                          categories  \\\n",
       "0  Electronics,iPad & Tablets,All Tablets,Fire Ta...   \n",
       "1  Amazon Echo,Smart Home,Networking,Home & Tools...   \n",
       "2  Amazon Echo,Virtual Assistant Speakers,Electro...   \n",
       "3  eBook Readers,Fire Tablets,Electronics Feature...   \n",
       "4  Computers/Tablets & Networking,Tablets & eBook...   \n",
       "\n",
       "             primaryCategories              reviews.date  \\\n",
       "0                  Electronics  2016-12-26T00:00:00.000Z   \n",
       "1         Electronics,Hardware  2018-01-17T00:00:00.000Z   \n",
       "2         Electronics,Hardware  2017-12-20T00:00:00.000Z   \n",
       "3  Office Supplies,Electronics  2017-08-04T00:00:00.000Z   \n",
       "4                  Electronics  2017-01-23T00:00:00.000Z   \n",
       "\n",
       "                                        reviews.text  \\\n",
       "0  Purchased on Black FridayPros - Great Price (e...   \n",
       "1  I purchased two Amazon in Echo Plus and two do...   \n",
       "2  Just an average Alexa option. Does show a few ...   \n",
       "3  very good product. Exactly what I wanted, and ...   \n",
       "4  This is the 3rd one I've purchased. I've bough...   \n",
       "\n",
       "              reviews.title sentiment  \n",
       "0           Powerful tablet  Positive  \n",
       "1  Amazon Echo Plus AWESOME  Positive  \n",
       "2                   Average   Neutral  \n",
       "3               Greattttttt  Positive  \n",
       "4             Very durable!  Positive  "
      ]
     },
     "execution_count": 4,
     "metadata": {},
     "output_type": "execute_result"
    }
   ],
   "source": [
    "df.head()"
   ]
  },
  {
   "cell_type": "code",
   "execution_count": 3,
   "id": "b585d781",
   "metadata": {},
   "outputs": [],
   "source": [
    "#getting the only features which are needed i.e `review` and `sentiment` column\n",
    "df = df[[\"reviews.title\",\"sentiment\"]] "
   ]
  },
  {
   "cell_type": "code",
   "execution_count": 4,
   "id": "14bd0982",
   "metadata": {},
   "outputs": [],
   "source": [
    "X= df[\"reviews.title\"]   #independent feature\n",
    "y= df[\"sentiment\"]        #label"
   ]
  },
  {
   "cell_type": "code",
   "execution_count": 5,
   "id": "3e03d983",
   "metadata": {},
   "outputs": [
    {
     "data": {
      "text/plain": [
       "Positive    3749\n",
       "Neutral      158\n",
       "Negative      93\n",
       "Name: sentiment, dtype: int64"
      ]
     },
     "execution_count": 5,
     "metadata": {},
     "output_type": "execute_result"
    }
   ],
   "source": [
    "#seeing the data how imbalnce it is\n",
    "df[\"sentiment\"].value_counts()     "
   ]
  },
  {
   "cell_type": "code",
   "execution_count": 185,
   "id": "50871b64",
   "metadata": {},
   "outputs": [],
   "source": [
    "#droping nan values\n",
    "df.dropna(inplace=True)"
   ]
  },
  {
   "cell_type": "code",
   "execution_count": 187,
   "id": "92035167",
   "metadata": {},
   "outputs": [],
   "source": [
    "#DROPED NAN VALUES"
   ]
  },
  {
   "cell_type": "code",
   "execution_count": 186,
   "id": "a583a0ab",
   "metadata": {},
   "outputs": [
    {
     "data": {
      "text/plain": [
       "reviews.title    0\n",
       "sentiment        0\n",
       "dtype: int64"
      ]
     },
     "execution_count": 186,
     "metadata": {},
     "output_type": "execute_result"
    }
   ],
   "source": [
    "df.isna().sum()"
   ]
  },
  {
   "cell_type": "code",
   "execution_count": 15,
   "id": "6f5eb67d",
   "metadata": {},
   "outputs": [],
   "source": [
    "#oversampling the data \n",
    "os =RandomOverSampler(sampling_strategy=\"all\",random_state=4)"
   ]
  },
  {
   "cell_type": "code",
   "execution_count": 16,
   "id": "4f0d9fdd",
   "metadata": {},
   "outputs": [],
   "source": [
    "#fitting the data\n",
    "X_trian_ns ,y_train_ns =os.fit_resample(df,y)   "
   ]
  },
  {
   "cell_type": "code",
   "execution_count": 17,
   "id": "6ca5e0d0",
   "metadata": {},
   "outputs": [
    {
     "name": "stderr",
     "output_type": "stream",
     "text": [
      "c:\\users\\manoj\\appdata\\local\\programs\\python\\python39\\lib\\site-packages\\seaborn\\_decorators.py:36: FutureWarning: Pass the following variable as a keyword arg: x. From version 0.12, the only valid positional argument will be `data`, and passing other arguments without an explicit keyword will result in an error or misinterpretation.\n",
      "  warnings.warn(\n"
     ]
    },
    {
     "data": {
      "text/plain": [
       "<AxesSubplot:xlabel='sentiment', ylabel='count'>"
      ]
     },
     "execution_count": 17,
     "metadata": {},
     "output_type": "execute_result"
    },
    {
     "data": {
      "image/png": "[encoded data removed]",
      "text/plain": [
       "<Figure size 432x288 with 1 Axes>"
      ]
     },
     "metadata": {
      "needs_background": "light"
     },
     "output_type": "display_data"
    }
   ],
   "source": [
    "#visualize the data now the data is balanced\n",
    "sns.countplot(X_trian_ns[\"sentiment\"])"
   ]
  },
  {
   "cell_type": "code",
   "execution_count": 18,
   "id": "a1243e0d",
   "metadata": {},
   "outputs": [],
   "source": [
    "# importing the required lib for preprocessing the text data \n",
    "import nltk\n",
    "from nltk.corpus import stopwords\n",
    "from nltk.stem.porter import PorterStemmer\n",
    "from sklearn.feature_extraction.text import TfidfVectorizer\n",
    "import string\n",
    "import re"
   ]
  },
  {
   "cell_type": "markdown",
   "id": "51e4b96c",
   "metadata": {},
   "source": [
    "### porter stemmer is a process for removing the commoner morphological and inflexional endings from words in English. Its main use is as part of a term normalisation process that is usually done when setting up Information Retrieval systems."
   ]
  },
  {
   "cell_type": "code",
   "execution_count": null,
   "id": "6ad5569f",
   "metadata": {},
   "outputs": [],
   "source": [
    "stemmer = PorterStemmer()\n",
    "english_stopwords = stopwords.words('english')"
   ]
  },
  {
   "cell_type": "markdown",
   "id": "8f13733f",
   "metadata": {},
   "source": [
    "### Now  preprocessing the text data removing no.s , punctuations , making the text lowercase, removing stopwords..!!"
   ]
  },
  {
   "cell_type": "code",
   "execution_count": 20,
   "id": "0ee1f049",
   "metadata": {},
   "outputs": [],
   "source": [
    "def text_preprocess(text):\n",
    "    # remove no.s\n",
    "    text_1 = [re.sub(\"[0-9]\",\"\",str(text))]\n",
    "    \n",
    "    # remove punctuations\n",
    "    text_1 = [char for char in text_1 if char not in string.punctuation]\n",
    "    text_1 = \"\".join(text_1)\n",
    "    \n",
    "    # make lowercase\n",
    "    text_2 = text_1.lower()\n",
    "    \n",
    "    # remove stopwords\n",
    "    text_3 = [word for word in text_2.split() if word not in english_stopwords]\n",
    "    text_3 = \" \".join(text_3)\n",
    "    \n",
    "    # apply stemming\n",
    "    text_4 = [stemmer.stem(word) for word in text_3.split()]\n",
    "    text_4 = \" \".join(text_4)\n",
    "    \n",
    "    return (text_4)"
   ]
  },
  {
   "cell_type": "code",
   "execution_count": 21,
   "id": "2cdb7fcb",
   "metadata": {},
   "outputs": [],
   "source": [
    "#now the text data will go into the function `text_preprocess` and do preprocessing\n",
    "X_trian_ns[\"reviews.title_new\"]=X_trian_ns[\"reviews.title\"].apply(text_preprocess)"
   ]
  },
  {
   "cell_type": "markdown",
   "id": "ba84b98b",
   "metadata": {},
   "source": [
    "### TfidfVectorizer is the base building block of many NLP pipelines. It is a simple technique to vectorize text documents i.e. transform sentences into arrays of numbers  and use them in subsequent tasks."
   ]
  },
  {
   "cell_type": "code",
   "execution_count": 22,
   "id": "cef64a34",
   "metadata": {},
   "outputs": [],
   "source": [
    "tfidf= TfidfVectorizer()"
   ]
  },
  {
   "cell_type": "code",
   "execution_count": 31,
   "id": "82d47ee7",
   "metadata": {},
   "outputs": [],
   "source": [
    "#fiting and tranforming the text into numbers\n",
    "t=tfidf.fit_transform(X_trian_ns[\"reviews.title_new\"].to_numpy(),X_trian_ns[\"sentiment\"])"
   ]
  },
  {
   "cell_type": "code",
   "execution_count": 32,
   "id": "390f0ade",
   "metadata": {},
   "outputs": [
    {
     "data": {
      "text/plain": [
       "(11247, 1073)"
      ]
     },
     "execution_count": 32,
     "metadata": {},
     "output_type": "execute_result"
    }
   ],
   "source": [
    "t.shape"
   ]
  },
  {
   "cell_type": "code",
   "execution_count": 99,
   "id": "c0ae9303",
   "metadata": {},
   "outputs": [],
   "source": [
    "#using GaussianNB ,MultinomialNB model \n",
    "from sklearn.naive_bayes import GaussianNB,MultinomialNB"
   ]
  },
  {
   "cell_type": "code",
   "execution_count": 35,
   "id": "80eab616",
   "metadata": {},
   "outputs": [],
   "source": [
    "nb = GaussianNB()"
   ]
  },
  {
   "cell_type": "code",
   "execution_count": 38,
   "id": "c3205463",
   "metadata": {},
   "outputs": [
    {
     "data": {
      "text/plain": [
       "GaussianNB()"
      ]
     },
     "execution_count": 38,
     "metadata": {},
     "output_type": "execute_result"
    }
   ],
   "source": [
    "nb.fit(t.todense(),X_trian_ns[\"sentiment\"])"
   ]
  },
  {
   "cell_type": "code",
   "execution_count": 40,
   "id": "430d7a8c",
   "metadata": {},
   "outputs": [
    {
     "data": {
      "text/plain": [
       "0.737885658397795"
      ]
     },
     "execution_count": 40,
     "metadata": {},
     "output_type": "execute_result"
    }
   ],
   "source": [
    "#checking the training score\n",
    "nb.score(t.todense(),X_trian_ns[\"sentiment\"])"
   ]
  },
  {
   "cell_type": "markdown",
   "id": "fe6df12e",
   "metadata": {},
   "source": [
    "# now fr testing"
   ]
  },
  {
   "cell_type": "code",
   "execution_count": 51,
   "id": "192daf2f",
   "metadata": {},
   "outputs": [],
   "source": [
    "df_test = pd.read_csv(\"test_data_hidden.csv\")"
   ]
  },
  {
   "cell_type": "markdown",
   "id": "4f674a54",
   "metadata": {},
   "source": [
    "##### Now preprocessing  the test - text data removing no.s , punctuations , making the text lowercase, removing stopwords..!"
   ]
  },
  {
   "cell_type": "code",
   "execution_count": 53,
   "id": "1040c766",
   "metadata": {},
   "outputs": [],
   "source": [
    "def text_preprocess(text):\n",
    "    # remove no.s\n",
    "    text_1 = [re.sub(\"[0-9]\",\"\",str(text))]\n",
    "    \n",
    "    # remove punctuations\n",
    "    text_1 = [char for char in text_1 if char not in string.punctuation]\n",
    "    text_1 = \"\".join(text_1)\n",
    "    \n",
    "    # make lowercase\n",
    "    text_2 = text_1.lower()\n",
    "    \n",
    "    # remove stopwords\n",
    "    text_3 = [word for word in text_2.split() if word not in english_stopwords]\n",
    "    text_3 = \" \".join(text_3)\n",
    "    \n",
    "    # apply stemming\n",
    "    text_4 = [stemmer.stem(word) for word in text_3.split()]\n",
    "    text_4 = \" \".join(text_4)\n",
    "    \n",
    "    return (text_4)"
   ]
  },
  {
   "cell_type": "code",
   "execution_count": 54,
   "id": "f7b7a41f",
   "metadata": {},
   "outputs": [],
   "source": [
    "#now the text data will go into the function `text_preprocess` and do preprocessing\n",
    "df_test[\"reviews.title_new\"]=df_test[\"reviews.title\"].apply(text_preprocess)"
   ]
  },
  {
   "cell_type": "code",
   "execution_count": 55,
   "id": "822c542f",
   "metadata": {},
   "outputs": [],
   "source": [
    "#independent variable\n",
    "X_test = df_test[\"reviews.title_new\"]   "
   ]
  },
  {
   "cell_type": "code",
   "execution_count": 56,
   "id": "79a6cffc",
   "metadata": {},
   "outputs": [],
   "source": [
    "#transform text into no.s\n",
    "t_test = tfidf.transform(X_test)"
   ]
  },
  {
   "cell_type": "code",
   "execution_count": 58,
   "id": "754a08dd",
   "metadata": {},
   "outputs": [],
   "source": [
    "#predicting with naive baies\n",
    "pred=nb.predict(t_test.todense())"
   ]
  },
  {
   "cell_type": "code",
   "execution_count": 66,
   "id": "dbba2054",
   "metadata": {},
   "outputs": [
    {
     "data": {
      "text/plain": [
       "array([0.66666667, 0.38461538, 0.47705443])"
      ]
     },
     "execution_count": 66,
     "metadata": {},
     "output_type": "execute_result"
    }
   ],
   "source": [
    "recall_score(df_test[\"sentiment\"],pred,average=None)  #checking the recall score and index(2) is the weighted score"
   ]
  },
  {
   "cell_type": "code",
   "execution_count": 69,
   "id": "9fbfca91",
   "metadata": {},
   "outputs": [
    {
     "data": {
      "text/plain": [
       "array([[ 16,   1,   7],\n",
       "       [ 16,  15,   8],\n",
       "       [278, 212, 447]], dtype=int64)"
      ]
     },
     "execution_count": 69,
     "metadata": {},
     "output_type": "execute_result"
    }
   ],
   "source": [
    "#for false -ve and false +ve\n",
    "confusion_matrix(df_test[\"sentiment\"],pred)"
   ]
  },
  {
   "cell_type": "code",
   "execution_count": 71,
   "id": "68d0e43f",
   "metadata": {},
   "outputs": [
    {
     "data": {
      "text/plain": [
       "array([0.09580838, 0.11235955, 0.63902788])"
      ]
     },
     "execution_count": 71,
     "metadata": {},
     "output_type": "execute_result"
    }
   ],
   "source": [
    "f1_score(df_test[\"sentiment\"],pred,average=None)  #checking the f1 score and index(2) is the weighted score"
   ]
  },
  {
   "cell_type": "markdown",
   "id": "9c032a15",
   "metadata": {},
   "source": [
    "# done with  naive now with random forest and xgbosst\n"
   ]
  },
  {
   "cell_type": "markdown",
   "id": "c2afbc87",
   "metadata": {},
   "source": [
    "# random forest "
   ]
  },
  {
   "cell_type": "code",
   "execution_count": 73,
   "id": "e052957f",
   "metadata": {},
   "outputs": [],
   "source": [
    "from sklearn.ensemble import RandomForestClassifier"
   ]
  },
  {
   "cell_type": "code",
   "execution_count": 75,
   "id": "72b2c379",
   "metadata": {},
   "outputs": [],
   "source": [
    "rfc = RandomForestClassifier()"
   ]
  },
  {
   "cell_type": "code",
   "execution_count": 76,
   "id": "90eb240d",
   "metadata": {},
   "outputs": [
    {
     "data": {
      "text/plain": [
       "RandomForestClassifier()"
      ]
     },
     "execution_count": 76,
     "metadata": {},
     "output_type": "execute_result"
    }
   ],
   "source": [
    "rfc.fit_transform(t.todense(),X_trian_ns[\"sentiment\"]) "
   ]
  },
  {
   "cell_type": "code",
   "execution_count": 78,
   "id": "dfd364e8",
   "metadata": {},
   "outputs": [
    {
     "data": {
      "text/plain": [
       "0.9484306926291456"
      ]
     },
     "execution_count": 78,
     "metadata": {},
     "output_type": "execute_result"
    }
   ],
   "source": [
    "rfc.score(t.todense(),X_trian_ns[\"sentiment\"]) #checking the traing score"
   ]
  },
  {
   "cell_type": "code",
   "execution_count": 79,
   "id": "a7e56b56",
   "metadata": {},
   "outputs": [],
   "source": [
    "rdf_pred=rfc.predict(t_test.todense()) #doing prediction of test data"
   ]
  },
  {
   "cell_type": "code",
   "execution_count": 82,
   "id": "bd621a50",
   "metadata": {},
   "outputs": [
    {
     "data": {
      "text/plain": [
       "array([[  9,   5,  10],\n",
       "       [  2,  15,  22],\n",
       "       [ 15,  54, 868]], dtype=int64)"
      ]
     },
     "execution_count": 82,
     "metadata": {},
     "output_type": "execute_result"
    }
   ],
   "source": [
    "#for false -ve and false +ve\n",
    "confusion_matrix(df_test[\"sentiment\"],rdf_pred)"
   ]
  },
  {
   "cell_type": "code",
   "execution_count": 84,
   "id": "d9a4e238",
   "metadata": {},
   "outputs": [
    {
     "data": {
      "text/plain": [
       "array([0.34615385, 0.2027027 , 0.96444444])"
      ]
     },
     "execution_count": 84,
     "metadata": {},
     "output_type": "execute_result"
    }
   ],
   "source": [
    "precision_score(df_test[\"sentiment\"],rdf_pred,average=None) #checking the precision score and index(2) is the weighted score"
   ]
  },
  {
   "cell_type": "code",
   "execution_count": 85,
   "id": "ca56e285",
   "metadata": {},
   "outputs": [
    {
     "data": {
      "text/plain": [
       "array([0.375     , 0.38461538, 0.92636073])"
      ]
     },
     "execution_count": 85,
     "metadata": {},
     "output_type": "execute_result"
    }
   ],
   "source": [
    "recall_score(df_test[\"sentiment\"],rdf_pred,average=None)  #checking the recall score and index(2) is the weighted score"
   ]
  },
  {
   "cell_type": "code",
   "execution_count": 86,
   "id": "ffdd0835",
   "metadata": {},
   "outputs": [
    {
     "data": {
      "text/plain": [
       "array([0.36      , 0.26548673, 0.94501905])"
      ]
     },
     "execution_count": 86,
     "metadata": {},
     "output_type": "execute_result"
    }
   ],
   "source": [
    "f1_score(df_test[\"sentiment\"],rdf_pred,average=None) #checking the f1score and index(2) is the weighted score"
   ]
  },
  {
   "cell_type": "markdown",
   "id": "af153d94",
   "metadata": {},
   "source": [
    "# XGBOOST"
   ]
  },
  {
   "cell_type": "code",
   "execution_count": 91,
   "id": "e513c82a",
   "metadata": {},
   "outputs": [],
   "source": [
    "from  xgboost import  XGBClassifier "
   ]
  },
  {
   "cell_type": "code",
   "execution_count": 92,
   "id": "03f5d97c",
   "metadata": {},
   "outputs": [],
   "source": [
    "xgb =XGBClassifier()"
   ]
  },
  {
   "cell_type": "code",
   "execution_count": 93,
   "id": "80faf0b2",
   "metadata": {},
   "outputs": [
    {
     "name": "stderr",
     "output_type": "stream",
     "text": [
      "c:\\users\\manoj\\appdata\\local\\programs\\python\\python39\\lib\\site-packages\\xgboost\\sklearn.py:1146: UserWarning: The use of label encoder in XGBClassifier is deprecated and will be removed in a future release. To remove this warning, do the following: 1) Pass option use_label_encoder=False when constructing XGBClassifier object; and 2) Encode your labels (y) as integers starting with 0, i.e. 0, 1, 2, ..., [num_class - 1].\n",
      "  warnings.warn(label_encoder_deprecation_msg, UserWarning)\n"
     ]
    },
    {
     "name": "stdout",
     "output_type": "stream",
     "text": [
      "[15:42:51] WARNING: C:/Users/Administrator/workspace/xgboost-win64_release_1.4.0/src/learner.cc:1095: Starting in XGBoost 1.3.0, the default evaluation metric used with the objective 'multi:softprob' was changed from 'merror' to 'mlogloss'. Explicitly set eval_metric if you'd like to restore the old behavior.\n"
     ]
    },
    {
     "data": {
      "text/plain": [
       "XGBClassifier(base_score=0.5, booster='gbtree', colsample_bylevel=1,\n",
       "              colsample_bynode=1, colsample_bytree=1, gamma=0, gpu_id=-1,\n",
       "              importance_type='gain', interaction_constraints='',\n",
       "              learning_rate=0.300000012, max_delta_step=0, max_depth=6,\n",
       "              min_child_weight=1, missing=nan, monotone_constraints='()',\n",
       "              n_estimators=100, n_jobs=8, num_parallel_tree=1,\n",
       "              objective='multi:softprob', random_state=0, reg_alpha=0,\n",
       "              reg_lambda=1, scale_pos_weight=None, subsample=1,\n",
       "              tree_method='exact', validate_parameters=1, verbosity=None)"
      ]
     },
     "execution_count": 93,
     "metadata": {},
     "output_type": "execute_result"
    }
   ],
   "source": [
    "xgb.fit_transform(t.todense(),X_trian_ns[\"sentiment\"])"
   ]
  },
  {
   "cell_type": "code",
   "execution_count": 94,
   "id": "84a0143e",
   "metadata": {},
   "outputs": [
    {
     "data": {
      "text/plain": [
       "0.9387392193473815"
      ]
     },
     "execution_count": 94,
     "metadata": {},
     "output_type": "execute_result"
    }
   ],
   "source": [
    "xgb.score(t.todense(),X_trian_ns[\"sentiment\"])"
   ]
  },
  {
   "cell_type": "code",
   "execution_count": 95,
   "id": "f8c7a00b",
   "metadata": {},
   "outputs": [],
   "source": [
    "xgb_pred=xgb.predict(t_test.todense())"
   ]
  },
  {
   "cell_type": "code",
   "execution_count": 96,
   "id": "fa3ec340",
   "metadata": {},
   "outputs": [
    {
     "data": {
      "text/plain": [
       "array([[ 10,   4,  10],\n",
       "       [  3,  16,  20],\n",
       "       [ 15,  49, 873]], dtype=int64)"
      ]
     },
     "execution_count": 96,
     "metadata": {},
     "output_type": "execute_result"
    }
   ],
   "source": [
    "confusion_matrix(df_test[\"sentiment\"],xgb_pred)"
   ]
  },
  {
   "cell_type": "code",
   "execution_count": 97,
   "id": "6dcb56ae",
   "metadata": {},
   "outputs": [
    {
     "data": {
      "text/plain": [
       "array([0.35714286, 0.23188406, 0.96677741])"
      ]
     },
     "execution_count": 97,
     "metadata": {},
     "output_type": "execute_result"
    }
   ],
   "source": [
    "precision_score(df_test[\"sentiment\"],xgb_pred,average=None)"
   ]
  },
  {
   "cell_type": "code",
   "execution_count": 98,
   "id": "ce812dd2",
   "metadata": {},
   "outputs": [
    {
     "data": {
      "text/plain": [
       "array([0.38461538, 0.2962963 , 0.94891304])"
      ]
     },
     "execution_count": 98,
     "metadata": {},
     "output_type": "execute_result"
    }
   ],
   "source": [
    "f1_score(df_test[\"sentiment\"],xgb_pred,average=None)"
   ]
  },
  {
   "cell_type": "markdown",
   "id": "28a8b9c3",
   "metadata": {},
   "source": [
    "### for multinomialNB"
   ]
  },
  {
   "cell_type": "code",
   "execution_count": 103,
   "id": "68370b03",
   "metadata": {},
   "outputs": [],
   "source": [
    "m_nb= MultinomialNB(alpha=0.01,)"
   ]
  },
  {
   "cell_type": "code",
   "execution_count": 104,
   "id": "5c2d3de6",
   "metadata": {},
   "outputs": [
    {
     "data": {
      "text/plain": [
       "MultinomialNB(alpha=0.01)"
      ]
     },
     "execution_count": 104,
     "metadata": {},
     "output_type": "execute_result"
    }
   ],
   "source": [
    "m_nb.fit_transform(t.todense(),X_trian_ns[\"sentiment\"])"
   ]
  },
  {
   "cell_type": "code",
   "execution_count": 105,
   "id": "61cff4aa",
   "metadata": {},
   "outputs": [
    {
     "data": {
      "text/plain": [
       "0.8542722503778786"
      ]
     },
     "execution_count": 105,
     "metadata": {},
     "output_type": "execute_result"
    }
   ],
   "source": [
    "m_nb.score(t.todense(),X_trian_ns[\"sentiment\"])"
   ]
  },
  {
   "cell_type": "code",
   "execution_count": 106,
   "id": "ed5b1f6e",
   "metadata": {},
   "outputs": [],
   "source": [
    "nb_pred= nb.predict(t_test.todense())"
   ]
  },
  {
   "cell_type": "code",
   "execution_count": 107,
   "id": "921b5444",
   "metadata": {},
   "outputs": [
    {
     "data": {
      "text/plain": [
       "array([[ 16,   1,   7],\n",
       "       [ 16,  15,   8],\n",
       "       [278, 212, 447]], dtype=int64)"
      ]
     },
     "execution_count": 107,
     "metadata": {},
     "output_type": "execute_result"
    }
   ],
   "source": [
    "confusion_matrix(df_test[\"sentiment\"],nb_pred)"
   ]
  },
  {
   "cell_type": "code",
   "execution_count": 108,
   "id": "d68eea2b",
   "metadata": {},
   "outputs": [
    {
     "data": {
      "text/plain": [
       "array([0.0516129 , 0.06578947, 0.96753247])"
      ]
     },
     "execution_count": 108,
     "metadata": {},
     "output_type": "execute_result"
    }
   ],
   "source": [
    "precision_score(df_test[\"sentiment\"],nb_pred,average=None)"
   ]
  },
  {
   "cell_type": "code",
   "execution_count": 109,
   "id": "ceaaca66",
   "metadata": {},
   "outputs": [
    {
     "data": {
      "text/plain": [
       "array([0.09580838, 0.11235955, 0.63902788])"
      ]
     },
     "execution_count": 109,
     "metadata": {},
     "output_type": "execute_result"
    }
   ],
   "source": [
    "f1_score(df_test[\"sentiment\"],nb_pred,average=None)"
   ]
  },
  {
   "cell_type": "markdown",
   "id": "4c5b9dfa",
   "metadata": {},
   "source": [
    "###  ANN neural network"
   ]
  },
  {
   "cell_type": "code",
   "execution_count": 110,
   "id": "251b0c6a",
   "metadata": {},
   "outputs": [],
   "source": [
    "from  tensorflow.keras.layers import Dense \n",
    "from tensorflow.keras import Sequential"
   ]
  },
  {
   "cell_type": "code",
   "execution_count": 142,
   "id": "ee7b3da4",
   "metadata": {},
   "outputs": [],
   "source": [
    "from sklearn.preprocessing import LabelEncoder"
   ]
  },
  {
   "cell_type": "code",
   "execution_count": 145,
   "id": "141863e7",
   "metadata": {},
   "outputs": [],
   "source": [
    "y=LabelEncoder().fit_transform(X_trian_ns[\"sentiment\"])"
   ]
  },
  {
   "cell_type": "code",
   "execution_count": 160,
   "id": "ab623930",
   "metadata": {},
   "outputs": [
    {
     "data": {
      "text/html": [
       "<div>\n",
       "<style scoped>\n",
       "    .dataframe tbody tr th:only-of-type {\n",
       "        vertical-align: middle;\n",
       "    }\n",
       "\n",
       "    .dataframe tbody tr th {\n",
       "        vertical-align: top;\n",
       "    }\n",
       "\n",
       "    .dataframe thead th {\n",
       "        text-align: right;\n",
       "    }\n",
       "</style>\n",
       "<table border=\"1\" class=\"dataframe\">\n",
       "  <thead>\n",
       "    <tr style=\"text-align: right;\">\n",
       "      <th></th>\n",
       "      <th>Negative</th>\n",
       "      <th>Neutral</th>\n",
       "      <th>Positive</th>\n",
       "    </tr>\n",
       "  </thead>\n",
       "  <tbody>\n",
       "    <tr>\n",
       "      <th>0</th>\n",
       "      <td>0</td>\n",
       "      <td>0</td>\n",
       "      <td>1</td>\n",
       "    </tr>\n",
       "    <tr>\n",
       "      <th>1</th>\n",
       "      <td>0</td>\n",
       "      <td>0</td>\n",
       "      <td>1</td>\n",
       "    </tr>\n",
       "    <tr>\n",
       "      <th>2</th>\n",
       "      <td>0</td>\n",
       "      <td>1</td>\n",
       "      <td>0</td>\n",
       "    </tr>\n",
       "    <tr>\n",
       "      <th>3</th>\n",
       "      <td>0</td>\n",
       "      <td>0</td>\n",
       "      <td>1</td>\n",
       "    </tr>\n",
       "    <tr>\n",
       "      <th>4</th>\n",
       "      <td>0</td>\n",
       "      <td>0</td>\n",
       "      <td>1</td>\n",
       "    </tr>\n",
       "    <tr>\n",
       "      <th>...</th>\n",
       "      <td>...</td>\n",
       "      <td>...</td>\n",
       "      <td>...</td>\n",
       "    </tr>\n",
       "    <tr>\n",
       "      <th>11242</th>\n",
       "      <td>0</td>\n",
       "      <td>1</td>\n",
       "      <td>0</td>\n",
       "    </tr>\n",
       "    <tr>\n",
       "      <th>11243</th>\n",
       "      <td>0</td>\n",
       "      <td>1</td>\n",
       "      <td>0</td>\n",
       "    </tr>\n",
       "    <tr>\n",
       "      <th>11244</th>\n",
       "      <td>0</td>\n",
       "      <td>1</td>\n",
       "      <td>0</td>\n",
       "    </tr>\n",
       "    <tr>\n",
       "      <th>11245</th>\n",
       "      <td>0</td>\n",
       "      <td>1</td>\n",
       "      <td>0</td>\n",
       "    </tr>\n",
       "    <tr>\n",
       "      <th>11246</th>\n",
       "      <td>0</td>\n",
       "      <td>1</td>\n",
       "      <td>0</td>\n",
       "    </tr>\n",
       "  </tbody>\n",
       "</table>\n",
       "<p>11247 rows × 3 columns</p>\n",
       "</div>"
      ],
      "text/plain": [
       "       Negative  Neutral  Positive\n",
       "0             0        0         1\n",
       "1             0        0         1\n",
       "2             0        1         0\n",
       "3             0        0         1\n",
       "4             0        0         1\n",
       "...         ...      ...       ...\n",
       "11242         0        1         0\n",
       "11243         0        1         0\n",
       "11244         0        1         0\n",
       "11245         0        1         0\n",
       "11246         0        1         0\n",
       "\n",
       "[11247 rows x 3 columns]"
      ]
     },
     "execution_count": 160,
     "metadata": {},
     "output_type": "execute_result"
    }
   ],
   "source": [
    "pd.get_dummies(X_trian_ns[\"sentiment\"])"
   ]
  },
  {
   "cell_type": "code",
   "execution_count": 148,
   "id": "6235fdd2",
   "metadata": {},
   "outputs": [
    {
     "data": {
      "application/javascript": [
       "\n",
       "        if (window._pyforest_update_imports_cell) { window._pyforest_update_imports_cell('import keras\\nimport sklearn'); }\n",
       "    "
      ],
      "text/plain": [
       "<IPython.core.display.Javascript object>"
      ]
     },
     "metadata": {},
     "output_type": "display_data"
    }
   ],
   "source": [
    "model = Sequential([\n",
    "    Dense(units =128,kernel_initializer= \"he_uniform\",activation='relu',input_dim=1073),\n",
    "    Dense(units =64,kernel_initializer= \"he_uniform\",activation='relu'),\n",
    "    Dense(units= 3,activation=\"softmax\")\n",
    "])"
   ]
  },
  {
   "cell_type": "code",
   "execution_count": 151,
   "id": "398a2824",
   "metadata": {},
   "outputs": [],
   "source": [
    "model.compile(\"adam\",loss=\"sparse_categorical_crossentropy\",metrics=[\"accuracy\"])"
   ]
  },
  {
   "cell_type": "code",
   "execution_count": 152,
   "id": "93902e0e",
   "metadata": {},
   "outputs": [
    {
     "name": "stdout",
     "output_type": "stream",
     "text": [
      "Epoch 1/10\n",
      "352/352 [==============================] - 2s 4ms/step - loss: 0.8060 - accuracy: 0.6153\n",
      "Epoch 2/10\n",
      "352/352 [==============================] - 1s 4ms/step - loss: 0.3599 - accuracy: 0.8985\n",
      "Epoch 3/10\n",
      "352/352 [==============================] - 1s 4ms/step - loss: 0.2820 - accuracy: 0.9154\n",
      "Epoch 4/10\n",
      "352/352 [==============================] - 1s 4ms/step - loss: 0.2477 - accuracy: 0.9257\n",
      "Epoch 5/10\n",
      "352/352 [==============================] - 1s 4ms/step - loss: 0.2272 - accuracy: 0.9317\n",
      "Epoch 6/10\n",
      "352/352 [==============================] - 1s 4ms/step - loss: 0.2113 - accuracy: 0.9379\n",
      "Epoch 7/10\n",
      "352/352 [==============================] - 1s 4ms/step - loss: 0.2012 - accuracy: 0.9389\n",
      "Epoch 8/10\n",
      "352/352 [==============================] - 1s 4ms/step - loss: 0.1923 - accuracy: 0.9403\n",
      "Epoch 9/10\n",
      "352/352 [==============================] - 1s 4ms/step - loss: 0.1876 - accuracy: 0.9402\n",
      "Epoch 10/10\n",
      "352/352 [==============================] - 1s 4ms/step - loss: 0.1815 - accuracy: 0.9421\n"
     ]
    },
    {
     "data": {
      "text/plain": [
       "<keras.callbacks.History at 0x268ae34a880>"
      ]
     },
     "execution_count": 152,
     "metadata": {},
     "output_type": "execute_result"
    }
   ],
   "source": [
    "model.fit(t.toarray(),y, batch_size=32,\n",
    "    epochs=10,\n",
    "    verbose=1)"
   ]
  },
  {
   "cell_type": "code",
   "execution_count": 153,
   "id": "b59e377d",
   "metadata": {},
   "outputs": [],
   "source": [
    "ann_pred=model.predict(t_test.todense())"
   ]
  },
  {
   "cell_type": "code",
   "execution_count": 168,
   "id": "5690f888",
   "metadata": {},
   "outputs": [
    {
     "data": {
      "text/plain": [
       "numpy.int64"
      ]
     },
     "execution_count": 168,
     "metadata": {},
     "output_type": "execute_result"
    }
   ],
   "source": [
    "type(ann_pred[15].argmax())"
   ]
  },
  {
   "cell_type": "code",
   "execution_count": 178,
   "id": "59f290e1",
   "metadata": {},
   "outputs": [],
   "source": [
    "l1=[]\n",
    "for i in ann_pred:\n",
    "    i=i.argmax()\n",
    "    if i==2:\n",
    "        i=\"Positive\"\n",
    "        l1.append(i)\n",
    "    if i==0:\n",
    "        i=\"Negative\"\n",
    "        l1.append(i)\n",
    "    if i==1:\n",
    "        i=\"Neutral\"\n",
    "        l1.append(i)\n",
    "    "
   ]
  },
  {
   "cell_type": "code",
   "execution_count": null,
   "id": "d2df4481",
   "metadata": {},
   "outputs": [],
   "source": []
  },
  {
   "cell_type": "code",
   "execution_count": 174,
   "id": "e6cc3209",
   "metadata": {},
   "outputs": [],
   "source": [
    "ann_pred_array=np.array(l1)"
   ]
  },
  {
   "cell_type": "code",
   "execution_count": 176,
   "id": "b8d1d752",
   "metadata": {},
   "outputs": [
    {
     "data": {
      "text/plain": [
       "array([0.3125    , 0.25423729, 0.94169417])"
      ]
     },
     "execution_count": 176,
     "metadata": {},
     "output_type": "execute_result"
    }
   ],
   "source": [
    "f1_score(df_test[\"sentiment\"],ann_pred_array,average=None)"
   ]
  },
  {
   "cell_type": "code",
   "execution_count": 177,
   "id": "a42a46ee",
   "metadata": {},
   "outputs": [
    {
     "data": {
      "text/plain": [
       "array([0.25      , 0.18987342, 0.97162316])"
      ]
     },
     "execution_count": 177,
     "metadata": {},
     "output_type": "execute_result"
    }
   ],
   "source": [
    "precision_score(df_test[\"sentiment\"],ann_pred_array,average=None)"
   ]
  },
  {
   "cell_type": "code",
   "execution_count": 179,
   "id": "0c704c70",
   "metadata": {},
   "outputs": [
    {
     "data": {
      "text/plain": [
       "array([[ 10,   7,   7],\n",
       "       [  6,  15,  18],\n",
       "       [ 24,  57, 856]], dtype=int64)"
      ]
     },
     "execution_count": 179,
     "metadata": {},
     "output_type": "execute_result"
    }
   ],
   "source": [
    "confusion_matrix(df_test[\"sentiment\"],ann_pred_array)"
   ]
  },
  {
   "cell_type": "markdown",
   "id": "a9eaaa1c",
   "metadata": {},
   "source": [
    "# using LSTM"
   ]
  },
  {
   "cell_type": "code",
   "execution_count": 197,
   "id": "0faca4dd",
   "metadata": {},
   "outputs": [],
   "source": [
    "from tensorflow.keras.layers import Embedding,Dropout,Dense,LSTM\n",
    "from tensorflow.keras.preprocessing.sequence import pad_sequences\n",
    "from tensorflow.keras.preprocessing.text import  one_hot\n",
    "from nltk import corpus"
   ]
  },
  {
   "cell_type": "code",
   "execution_count": 198,
   "id": "48b17ff2",
   "metadata": {},
   "outputs": [],
   "source": [
    "voc_size = 10000"
   ]
  },
  {
   "cell_type": "code",
   "execution_count": 200,
   "id": "9a03fcfd",
   "metadata": {},
   "outputs": [],
   "source": [
    "one = [one_hot(word,voc_size) for word in X_trian_ns[\"reviews.title_new\"]]"
   ]
  },
  {
   "cell_type": "code",
   "execution_count": 203,
   "id": "86d57f38",
   "metadata": {},
   "outputs": [],
   "source": [
    "sen_max=[]\n",
    "for j in  X_trian_ns[\"reviews.title_new\"]:\n",
    "    j=j.split(\" \")\n",
    "    \n",
    "    sen_max.append((len(j)))"
   ]
  },
  {
   "cell_type": "code",
   "execution_count": 204,
   "id": "47df5796",
   "metadata": {},
   "outputs": [
    {
     "data": {
      "text/plain": [
       "11"
      ]
     },
     "execution_count": 204,
     "metadata": {},
     "output_type": "execute_result"
    }
   ],
   "source": [
    "max(sen_max)"
   ]
  },
  {
   "cell_type": "code",
   "execution_count": 208,
   "id": "e07a8f65",
   "metadata": {},
   "outputs": [],
   "source": [
    "emb_doc=pad_sequences(one,\n",
    "    maxlen=12,\n",
    "    dtype='int32',\n",
    "    padding='pre',\n",
    "    truncating='pre',\n",
    "    value=0.0,)"
   ]
  },
  {
   "cell_type": "code",
   "execution_count": null,
   "id": "1a414faf",
   "metadata": {},
   "outputs": [],
   "source": []
  },
  {
   "cell_type": "code",
   "execution_count": 210,
   "id": "a906e86d",
   "metadata": {},
   "outputs": [],
   "source": [
    "embed_feature = 100\n",
    "model = Sequential([\n",
    "Embedding(input_dim=voc_size,\n",
    "    output_dim=embed_feature,\n",
    "    embeddings_initializer=\"uniform\",\n",
    "    embeddings_regularizer=None,\n",
    "    activity_regularizer=None,\n",
    "    embeddings_constraint=None,\n",
    "    mask_zero=False,\n",
    "    input_length=12),\n",
    "LSTM(units=100,\n",
    "    activation=\"tanh\",\n",
    "    recurrent_activation=\"sigmoid\",\n",
    "    use_bias=True,\n",
    "    kernel_initializer=\"glorot_uniform\",\n",
    "    recurrent_initializer=\"orthogonal\",\n",
    "    bias_initializer=\"zeros\",\n",
    "    unit_forget_bias=True,\n",
    "    kernel_regularizer=None,\n",
    "    recurrent_regularizer=None,\n",
    "    bias_regularizer=None,\n",
    "    activity_regularizer=None,\n",
    "    kernel_constraint=None,\n",
    "    recurrent_constraint=None,\n",
    "    bias_constraint=None,\n",
    "    dropout=0.0,\n",
    "    recurrent_dropout=0.0,\n",
    "    return_sequences=False,\n",
    "    return_state=False,\n",
    "    go_backwards=False,\n",
    "    stateful=False,\n",
    "    time_major=False,\n",
    "    unroll=False),\n",
    "Dense(units =128,kernel_initializer= \"he_uniform\",activation='relu'),\n",
    "Dense(units =64,kernel_initializer= \"he_uniform\",activation='relu'),\n",
    "     Dense(units= 3,activation=\"softmax\")\n",
    "])\n",
    "\n",
    "model.compile(\"adam\",loss=\"sparse_categorical_crossentropy\",metrics=[\"accuracy\"])"
   ]
  },
  {
   "cell_type": "code",
   "execution_count": 211,
   "id": "5462ccf3",
   "metadata": {},
   "outputs": [
    {
     "name": "stdout",
     "output_type": "stream",
     "text": [
      "Epoch 1/10\n",
      "352/352 [==============================] - 17s 35ms/step - loss: 0.4703 - accuracy: 0.8061\n",
      "Epoch 2/10\n",
      "352/352 [==============================] - 12s 36ms/step - loss: 0.2445 - accuracy: 0.9031\n",
      "Epoch 3/10\n",
      "352/352 [==============================] - 12s 35ms/step - loss: 0.1897 - accuracy: 0.9211\n",
      "Epoch 4/10\n",
      "352/352 [==============================] - 12s 35ms/step - loss: 0.1605 - accuracy: 0.9346\n",
      "Epoch 5/10\n",
      "352/352 [==============================] - 12s 35ms/step - loss: 0.1489 - accuracy: 0.9381\n",
      "Epoch 6/10\n",
      "352/352 [==============================] - 13s 36ms/step - loss: 0.1394 - accuracy: 0.9385\n",
      "Epoch 7/10\n",
      "352/352 [==============================] - 12s 35ms/step - loss: 0.1358 - accuracy: 0.9414\n",
      "Epoch 8/10\n",
      "352/352 [==============================] - 12s 35ms/step - loss: 0.1311 - accuracy: 0.9409\n",
      "Epoch 9/10\n",
      "352/352 [==============================] - 12s 35ms/step - loss: 0.1282 - accuracy: 0.9429\n",
      "Epoch 10/10\n",
      "352/352 [==============================] - 12s 35ms/step - loss: 0.1283 - accuracy: 0.9407\n"
     ]
    },
    {
     "data": {
      "text/plain": [
       "<keras.callbacks.History at 0x2689ca2d820>"
      ]
     },
     "execution_count": 211,
     "metadata": {},
     "output_type": "execute_result"
    }
   ],
   "source": [
    "model.fit(emb_doc,y, batch_size=32,\n",
    "    epochs=10,\n",
    "    verbose=1)"
   ]
  },
  {
   "cell_type": "code",
   "execution_count": 212,
   "id": "8a78f279",
   "metadata": {},
   "outputs": [],
   "source": [
    "one_test = [one_hot(word,voc_size) for word in  X_test]"
   ]
  },
  {
   "cell_type": "code",
   "execution_count": 213,
   "id": "fde9d7cd",
   "metadata": {},
   "outputs": [],
   "source": [
    "emb_doc_test=pad_sequences(one_test,\n",
    "    maxlen=12,\n",
    "    dtype='int32',\n",
    "    padding='pre',\n",
    "    truncating='pre',\n",
    "    value=0.0,)"
   ]
  },
  {
   "cell_type": "code",
   "execution_count": 217,
   "id": "1ed82827",
   "metadata": {},
   "outputs": [],
   "source": [
    "y_test=LabelEncoder().fit_transform(df_test[\"sentiment\"])"
   ]
  },
  {
   "cell_type": "code",
   "execution_count": 220,
   "id": "4b19cc54",
   "metadata": {},
   "outputs": [
    {
     "data": {
      "text/plain": [
       "array([2, 2, 2, 2, 2, 2, 2, 0, 2, 2, 2, 2, 2, 2, 2, 2, 2, 2, 2, 2, 2, 0,\n",
       "       2, 2, 2, 2, 2, 2, 2, 2, 2, 2, 2, 2, 2, 2, 2, 2, 2, 2, 2, 2, 2, 2,\n",
       "       2, 2, 2, 2, 2, 2, 2, 2, 2, 1, 2, 2, 2, 2, 2, 2, 2, 2, 2, 2, 2, 2,\n",
       "       2, 2, 2, 2, 2, 2, 2, 2, 2, 2, 2, 2, 2, 2, 2, 2, 2, 0, 0, 2, 2, 2,\n",
       "       2, 2, 2, 2, 2, 2, 2, 2, 2, 2, 2, 2, 2, 2, 2, 2, 2, 2, 2, 2, 2, 2,\n",
       "       2, 2, 2, 0, 2, 2, 2, 2, 2, 2, 2, 2, 2, 2, 2, 2, 2, 2, 2, 2, 2, 2,\n",
       "       2, 2, 2, 2, 2, 2, 2, 2, 2, 2, 2, 2, 2, 2, 2, 2, 2, 2, 1, 2, 2, 2,\n",
       "       2, 2, 2, 2, 2, 2, 2, 2, 2, 2, 2, 2, 2, 2, 0, 2, 2, 2, 2, 2, 2, 2,\n",
       "       2, 2, 2, 2, 1, 2, 2, 2, 2, 2, 2, 2, 2, 2, 2, 2, 2, 2, 2, 2, 2, 2,\n",
       "       2, 2, 2, 2, 2, 2, 2, 2, 2, 2, 2, 0, 2, 2, 2, 2, 2, 2, 2, 2, 2, 2,\n",
       "       2, 0, 2, 2, 2, 2, 2, 2, 2, 2, 2, 2, 2, 2, 2, 2, 2, 2, 2, 2, 2, 2,\n",
       "       2, 2, 2, 2, 2, 2, 2, 2, 2, 2, 2, 1, 2, 1, 1, 2, 2, 2, 2, 2, 2, 2,\n",
       "       2, 2, 2, 2, 2, 2, 2, 2, 1, 2, 2, 2, 2, 2, 2, 2, 2, 2, 2, 2, 2, 2,\n",
       "       2, 2, 2, 2, 2, 2, 2, 2, 2, 2, 2, 2, 2, 0, 2, 2, 2, 2, 2, 2, 2, 2,\n",
       "       2, 2, 2, 2, 2, 2, 2, 2, 2, 2, 2, 2, 2, 2, 2, 2, 2, 2, 2, 2, 2, 2,\n",
       "       2, 2, 2, 2, 2, 1, 2, 2, 2, 2, 2, 2, 2, 2, 2, 2, 2, 2, 2, 2, 2, 2,\n",
       "       2, 2, 2, 2, 2, 2, 2, 2, 2, 2, 2, 1, 2, 2, 2, 2, 2, 2, 2, 2, 2, 2,\n",
       "       2, 2, 2, 2, 2, 2, 2, 2, 2, 2, 2, 2, 2, 2, 2, 2, 2, 2, 2, 2, 2, 2,\n",
       "       1, 1, 2, 2, 0, 2, 2, 2, 2, 2, 2, 2, 2, 2, 2, 2, 2, 2, 2, 2, 2, 2,\n",
       "       2, 2, 2, 2, 2, 2, 2, 2, 2, 2, 2, 2, 2, 1, 2, 2, 2, 2, 2, 2, 2, 2,\n",
       "       2, 2, 2, 2, 1, 2, 2, 2, 2, 2, 2, 2, 2, 2, 2, 2, 2, 2, 2, 2, 2, 2,\n",
       "       2, 0, 2, 2, 2, 2, 2, 2, 2, 2, 2, 2, 2, 2, 2, 2, 1, 2, 2, 2, 2, 2,\n",
       "       2, 2, 2, 2, 1, 2, 2, 2, 2, 2, 2, 2, 2, 1, 2, 2, 2, 2, 2, 2, 2, 2,\n",
       "       2, 2, 2, 2, 2, 2, 1, 2, 2, 2, 2, 2, 2, 2, 2, 2, 2, 2, 2, 2, 2, 2,\n",
       "       2, 2, 2, 2, 2, 2, 2, 2, 2, 2, 2, 2, 2, 2, 2, 2, 2, 2, 2, 0, 1, 2,\n",
       "       1, 0, 2, 1, 2, 2, 2, 2, 2, 2, 2, 2, 2, 2, 2, 2, 0, 2, 1, 2, 2, 2,\n",
       "       2, 2, 2, 2, 2, 2, 2, 2, 2, 1, 2, 2, 2, 2, 2, 2, 2, 2, 2, 2, 2, 2,\n",
       "       2, 2, 2, 2, 2, 2, 2, 2, 2, 0, 2, 2, 2, 2, 2, 2, 2, 2, 2, 2, 2, 2,\n",
       "       0, 1, 2, 1, 2, 2, 2, 2, 2, 2, 2, 2, 2, 2, 2, 2, 2, 2, 2, 2, 2, 2,\n",
       "       2, 2, 2, 2, 2, 2, 2, 2, 2, 2, 2, 2, 2, 2, 2, 2, 2, 2, 2, 2, 2, 2,\n",
       "       2, 2, 2, 2, 1, 2, 2, 2, 2, 2, 2, 2, 2, 2, 2, 2, 2, 2, 2, 2, 2, 2,\n",
       "       2, 2, 2, 2, 2, 1, 2, 2, 2, 2, 2, 2, 0, 2, 2, 2, 1, 2, 2, 2, 2, 2,\n",
       "       2, 2, 2, 2, 2, 2, 2, 2, 2, 2, 2, 2, 2, 2, 2, 2, 2, 2, 2, 2, 2, 2,\n",
       "       1, 2, 2, 2, 2, 2, 2, 2, 2, 2, 1, 2, 2, 2, 2, 2, 2, 2, 1, 2, 2, 2,\n",
       "       2, 1, 2, 2, 2, 2, 2, 2, 0, 0, 2, 2, 2, 2, 2, 2, 2, 2, 2, 2, 2, 2,\n",
       "       2, 1, 2, 2, 2, 2, 2, 2, 2, 2, 2, 2, 2, 2, 2, 2, 2, 2, 2, 2, 2, 2,\n",
       "       2, 2, 2, 2, 2, 2, 2, 2, 2, 2, 2, 2, 2, 2, 2, 2, 2, 2, 2, 0, 2, 2,\n",
       "       2, 2, 2, 2, 2, 2, 2, 2, 2, 2, 2, 2, 2, 2, 2, 2, 2, 2, 2, 2, 2, 2,\n",
       "       2, 2, 2, 2, 2, 2, 2, 2, 2, 2, 2, 2, 2, 2, 2, 2, 2, 2, 2, 2, 2, 2,\n",
       "       2, 2, 2, 2, 2, 2, 2, 2, 2, 2, 2, 2, 2, 2, 2, 2, 2, 2, 2, 2, 2, 2,\n",
       "       2, 2, 2, 2, 2, 2, 2, 2, 2, 2, 2, 2, 2, 2, 2, 2, 2, 2, 2, 2, 2, 2,\n",
       "       0, 2, 2, 2, 2, 2, 2, 2, 2, 2, 0, 1, 2, 2, 1, 2, 2, 2, 2, 2, 2, 2,\n",
       "       0, 2, 2, 2, 2, 2, 1, 2, 2, 2, 2, 2, 2, 2, 2, 1, 2, 2, 2, 2, 2, 2,\n",
       "       2, 2, 2, 2, 2, 2, 2, 2, 2, 2, 2, 2, 2, 2, 2, 2, 2, 2, 2, 2, 2, 2,\n",
       "       2, 2, 2, 2, 2, 2, 1, 0, 1, 2, 2, 2, 2, 2, 2, 2, 2, 2, 2, 2, 2, 2,\n",
       "       2, 2, 2, 2, 2, 2, 1, 2, 2, 2])"
      ]
     },
     "execution_count": 220,
     "metadata": {},
     "output_type": "execute_result"
    }
   ],
   "source": [
    "y_test"
   ]
  },
  {
   "cell_type": "code",
   "execution_count": 221,
   "id": "36904a42",
   "metadata": {},
   "outputs": [
    {
     "data": {
      "text/plain": [
       "array([[   0,    0,    0, ...,    0, 3924, 9026],\n",
       "       [   0,    0,    0, ..., 1821, 6332,  289],\n",
       "       [   0,    0,    0, ..., 9940, 1490, 1407],\n",
       "       ...,\n",
       "       [   0,    0,    0, ..., 7273, 3911, 8576],\n",
       "       [   0,    0,    0, ..., 2038, 9871, 1244],\n",
       "       [   0,    0,    0, ...,    0, 2377, 6057]])"
      ]
     },
     "execution_count": 221,
     "metadata": {},
     "output_type": "execute_result"
    }
   ],
   "source": [
    "emb_doc_test"
   ]
  },
  {
   "cell_type": "code",
   "execution_count": 223,
   "id": "6abf1f50",
   "metadata": {},
   "outputs": [],
   "source": [
    "lstm_pred=model.predict(emb_doc_test)"
   ]
  },
  {
   "cell_type": "code",
   "execution_count": 224,
   "id": "63a230b2",
   "metadata": {},
   "outputs": [],
   "source": [
    "l2=[]\n",
    "for i in lstm_pred:\n",
    "    i=i.argmax()\n",
    "    if i==2:\n",
    "        i=\"Positive\"\n",
    "        l2.append(i)\n",
    "    if i==0:\n",
    "        i=\"Negative\"\n",
    "        l2.append(i)\n",
    "    if i==1:\n",
    "        i=\"Neutral\"\n",
    "        l2.append(i)"
   ]
  },
  {
   "cell_type": "code",
   "execution_count": 226,
   "id": "3eb8402e",
   "metadata": {},
   "outputs": [],
   "source": [
    "lstm_pred_array=np.array(l2)"
   ]
  },
  {
   "cell_type": "code",
   "execution_count": 227,
   "id": "4c69fcc1",
   "metadata": {},
   "outputs": [
    {
     "data": {
      "text/plain": [
       "array([[ 10,   5,   9],\n",
       "       [  4,  13,  22],\n",
       "       [ 27,  47, 863]], dtype=int64)"
      ]
     },
     "execution_count": 227,
     "metadata": {},
     "output_type": "execute_result"
    }
   ],
   "source": [
    "confusion_matrix(df_test[\"sentiment\"],lstm_pred_array)"
   ]
  },
  {
   "cell_type": "code",
   "execution_count": 230,
   "id": "e6b4976c",
   "metadata": {},
   "outputs": [
    {
     "data": {
      "text/plain": [
       "0.9004016825610216"
      ]
     },
     "execution_count": 230,
     "metadata": {},
     "output_type": "execute_result"
    }
   ],
   "source": [
    "f1_score(df_test[\"sentiment\"],lstm_pred_array,average=\"weighted\")"
   ]
  },
  {
   "cell_type": "markdown",
   "id": "d01582a2",
   "metadata": {},
   "source": [
    "# got best accuracy of lstm is 90%"
   ]
  },
  {
   "cell_type": "code",
   "execution_count": null,
   "id": "4f7648bb",
   "metadata": {},
   "outputs": [],
   "source": []
  },
  {
   "cell_type": "code",
   "execution_count": null,
   "id": "4171bf8c",
   "metadata": {},
   "outputs": [],
   "source": []
  },
  {
   "cell_type": "code",
   "execution_count": null,
   "id": "4d08c39c",
   "metadata": {},
   "outputs": [],
   "source": []
  },
  {
   "cell_type": "code",
   "execution_count": null,
   "id": "afc82052",
   "metadata": {},
   "outputs": [],
   "source": []
  }
 ],
 "metadata": {
  "kernelspec": {
   "display_name": "Python 3",
   "language": "python",
   "name": "python3"
  },
  "language_info": {
   "codemirror_mode": {
    "name": "ipython",
    "version": 3
   },
   "file_extension": ".py",
   "mimetype": "text/x-python",
   "name": "python",
   "nbconvert_exporter": "python",
   "pygments_lexer": "ipython3",
   "version": "3.9.5"
  }
 },
 "nbformat": 4,
 "nbformat_minor": 5
}
