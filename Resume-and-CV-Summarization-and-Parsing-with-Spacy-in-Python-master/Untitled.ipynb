{
 "cells": [
  {
   "cell_type": "markdown",
   "id": "0a43f0d7",
   "metadata": {},
   "source": [
    "# RESUME PRASER"
   ]
  },
  {
   "cell_type": "code",
   "execution_count": 86,
   "id": "9448d0cd",
   "metadata": {},
   "outputs": [],
   "source": [
    "#IMPORTING REQUIRED LIB\n",
    "import spacy\n",
    "import pickle\n",
    "import random\n"
   ]
  },
  {
   "cell_type": "code",
   "execution_count": 87,
   "id": "0f36951c",
   "metadata": {},
   "outputs": [],
   "source": [
    "#LOADIND DATA\n",
    "train_data = pickle.load(open(\"train_data.pkl\",\"rb\"))"
   ]
  },
  {
   "cell_type": "code",
   "execution_count": 88,
   "id": "8edda30b",
   "metadata": {},
   "outputs": [
    {
     "data": {
      "text/plain": [
       "('Govardhana K Senior Software Engineer  Bengaluru, Karnataka, Karnataka - Email me on Indeed: indeed.com/r/Govardhana-K/ b2de315d95905b68  Total IT experience 5 Years 6 Months Cloud Lending Solutions INC 4 Month • Salesforce Developer Oracle 5 Years 2 Month • Core Java Developer Languages Core Java, Go Lang Oracle PL-SQL programming, Sales Force Developer with APEX.  Designations & Promotions  Willing to relocate: Anywhere  WORK EXPERIENCE  Senior Software Engineer  Cloud Lending Solutions -  Bangalore, Karnataka -  January 2018 to Present  Present  Senior Consultant  Oracle -  Bangalore, Karnataka -  November 2016 to December 2017  Staff Consultant  Oracle -  Bangalore, Karnataka -  January 2014 to October 2016  Associate Consultant  Oracle -  Bangalore, Karnataka -  November 2012 to December 2013  EDUCATION  B.E in Computer Science Engineering  Adithya Institute of Technology -  Tamil Nadu  September 2008 to June 2012  https://www.indeed.com/r/Govardhana-K/b2de315d95905b68?isid=rex-download&ikw=download-top&co=IN https://www.indeed.com/r/Govardhana-K/b2de315d95905b68?isid=rex-download&ikw=download-top&co=IN   SKILLS  APEX. (Less than 1 year), Data Structures (3 years), FLEXCUBE (5 years), Oracle (5 years), Algorithms (3 years)  LINKS  https://www.linkedin.com/in/govardhana-k-61024944/  ADDITIONAL INFORMATION  Technical Proficiency:  Languages: Core Java, Go Lang, Data Structures & Algorithms, Oracle PL-SQL programming, Sales Force with APEX. Tools: RADTool, Jdeveloper, NetBeans, Eclipse, SQL developer, PL/SQL Developer, WinSCP, Putty Web Technologies: JavaScript, XML, HTML, Webservice  Operating Systems: Linux, Windows Version control system SVN & Git-Hub Databases: Oracle Middleware: Web logic, OC4J Product FLEXCUBE: Oracle FLEXCUBE Versions 10.x, 11.x and 12.x  https://www.linkedin.com/in/govardhana-k-61024944/',\n",
       " {'entities': [(1749, 1755, 'Companies worked at'),\n",
       "   (1696, 1702, 'Companies worked at'),\n",
       "   (1417, 1423, 'Companies worked at'),\n",
       "   (1356, 1793, 'Skills'),\n",
       "   (1209, 1215, 'Companies worked at'),\n",
       "   (1136, 1248, 'Skills'),\n",
       "   (928, 932, 'Graduation Year'),\n",
       "   (858, 889, 'College Name'),\n",
       "   (821, 856, 'Degree'),\n",
       "   (787, 791, 'Graduation Year'),\n",
       "   (744, 750, 'Companies worked at'),\n",
       "   (722, 742, 'Designation'),\n",
       "   (658, 664, 'Companies worked at'),\n",
       "   (640, 656, 'Designation'),\n",
       "   (574, 580, 'Companies worked at'),\n",
       "   (555, 573, 'Designation'),\n",
       "   (470, 493, 'Companies worked at'),\n",
       "   (444, 469, 'Designation'),\n",
       "   (308, 314, 'Companies worked at'),\n",
       "   (234, 240, 'Companies worked at'),\n",
       "   (175, 198, 'Companies worked at'),\n",
       "   (93, 137, 'Email Address'),\n",
       "   (39, 48, 'Location'),\n",
       "   (13, 38, 'Designation'),\n",
       "   (0, 12, 'Name')]})"
      ]
     },
     "execution_count": 88,
     "metadata": {},
     "output_type": "execute_result"
    }
   ],
   "source": [
    "train_data[0]"
   ]
  },
  {
   "cell_type": "code",
   "execution_count": null,
   "id": "1f3b3f65",
   "metadata": {},
   "outputs": [],
   "source": []
  },
  {
   "cell_type": "code",
   "execution_count": 90,
   "id": "47131f1a",
   "metadata": {},
   "outputs": [],
   "source": [
    "from spacy.training.example import Example\n"
   ]
  },
  {
   "cell_type": "code",
   "execution_count": 91,
   "id": "ecc6eb9c",
   "metadata": {},
   "outputs": [],
   "source": [
    "#TRAINING THE DATA\n",
    "nlp =spacy.blank('en')\n",
    "\n",
    "def train_model(train_data):\n",
    "    if 'ner' not in nlp.pipe_names: \n",
    "#         ner =nlp.create_pipe('ner') \n",
    "        ner= nlp.add_pipe(\"ner\",last = True)\n",
    "        \n",
    "        for _,annotation in train_data: \n",
    "            for ent in annotation['entities']: \n",
    "                ner.add_label(ent[2])\n",
    "\n",
    "        other_pipes = [pipe for pipe in nlp.pipe_names if pipe != 'ner'] \n",
    "        with nlp.disable_pipes(*other_pipes): # only train NER optimizer nlp.begin_training()\n",
    "            optimizer=nlp.begin_training()\n",
    "            for itn in range(10):\n",
    "\n",
    "                print(\"Statring iteration \" + str(itn))\n",
    "                random.shuffle(train_data)\n",
    "                losses = {}\n",
    "                index=0\n",
    "                for text, annotations in train_data:\n",
    "                    try:\n",
    "                        doc = nlp.make_doc(text)\n",
    "                        example = Example.from_dict(doc, annotations)\n",
    "                        nlp.update(\n",
    "                        [example],\n",
    "#                         [annotations],# batch of texts\n",
    "                        drop=0.2,\n",
    "#                         sgd= optimizer, # batch of annotations drop=0.2, #dropout make it harder to memorise de sgd-optimizer, # callable to update weights\n",
    "                        losses =losses)\n",
    "                    except Exception as e:\n",
    "#                         print(e)\n",
    "                        pass\n",
    "    #                     print(text)\n",
    "                print(losses)"
   ]
  },
  {
   "cell_type": "code",
   "execution_count": 92,
   "id": "4cb66c29",
   "metadata": {},
   "outputs": [
    {
     "name": "stdout",
     "output_type": "stream",
     "text": [
      "Statring iteration 0\n",
      "{'ner': 9377.729660925932}\n",
      "Statring iteration 1\n",
      "{'ner': 5003.046095327879}\n",
      "Statring iteration 2\n",
      "{'ner': 2968.8337612069436}\n",
      "Statring iteration 3\n",
      "{'ner': 2298.5858551365513}\n",
      "Statring iteration 4\n",
      "{'ner': 1809.5895363247537}\n",
      "Statring iteration 5\n",
      "{'ner': 1994.3860525586033}\n",
      "Statring iteration 6\n",
      "{'ner': 1734.3238028540757}\n",
      "Statring iteration 7\n",
      "{'ner': 1392.1808756451628}\n",
      "Statring iteration 8\n",
      "{'ner': 1310.5988724774795}\n",
      "Statring iteration 9\n",
      "{'ner': 1248.0283088327371}\n"
     ]
    }
   ],
   "source": [
    "train_model(train_data)"
   ]
  },
  {
   "cell_type": "code",
   "execution_count": 93,
   "id": "5b489c46",
   "metadata": {},
   "outputs": [],
   "source": [
    "nlp.to_disk(\"nlp_model\")"
   ]
  },
  {
   "cell_type": "code",
   "execution_count": 94,
   "id": "e9964f86",
   "metadata": {},
   "outputs": [],
   "source": [
    "#LOADIND THE SAVED MODEL\n",
    "nlp_model=spacy.load(\"nlp_model\")"
   ]
  },
  {
   "cell_type": "code",
   "execution_count": 95,
   "id": "66af6166",
   "metadata": {},
   "outputs": [
    {
     "data": {
      "text/plain": [
       "('kimaya sonawane Thane, Maharashtra - Email me on Indeed: indeed.com/r/kimaya- sonawane/1f27a18d2e4b1948  Quality education blended with sense of responsibility to utilize my professional as well as interpersonal skills that enables me to achieve the goals.  Willing to relocate: Anywhere  WORK EXPERIENCE  Technical Support Engineer  SAP -  Thane, Maharashtra -  November 2016 to Present  EDUCATION  BE in computer science  SSVPS’s Late B. S. Deore College of Engineering ,Dhule -  Dhule, Maharashtra  2011 to 2016  SKILLS  network engineers, Networking, CCNA, knowledge of Active Directory, DHCP, DNS , Troubleshooting and fix Network related issues (2 years)  CERTIFICATIONS/LICENSES  CCNA(Cisco Certified Network Associate- Routing & Switching) , MCSA (Microsoft Certified Solution Associate)  July 2016 to Present  ADDITIONAL INFORMATION  PROFESSIONAL INTRESTS: • Leading and managing teams • Interacting with People CO CURRICULAR ACTIVITES: • Participated in \"Mech-Tricks\" in IMPULSE 2014 National Level Event. • Participated in \"Mech-Tricks\" in IMPULSE 2013 National Level Event. • Participated in \"Tech-Quiz\" in IMPULSE 2013 National Level Event. • Participated in \"Management Games\" Organised in Ganesh Utsav 2012. • Winner in \"Rangoli Competition\" Organised in Ganesh Utsav 2013.  https://www.indeed.com/r/kimaya-sonawane/1f27a18d2e4b1948?isid=rex-download&ikw=download-top&co=IN https://www.indeed.com/r/kimaya-sonawane/1f27a18d2e4b1948?isid=rex-download&ikw=download-top&co=IN   PERSONAL TRAITS:  • Self Motivated • Adaptable • Confident • Team facilitator • Hard Worker',\n",
       " {'entities': [(802, 806, 'Graduation Year'),\n",
       "   (524, 661, 'Skills'),\n",
       "   (510, 514, 'Graduation Year'),\n",
       "   (424, 471, 'College Name'),\n",
       "   (400, 422, 'Degree'),\n",
       "   (372, 376, 'Graduation Year'),\n",
       "   (341, 346, 'Location'),\n",
       "   (334, 339, 'Companies worked at'),\n",
       "   (306, 332, 'Designation'),\n",
       "   (57, 103, 'Email Address'),\n",
       "   (16, 21, 'Location'),\n",
       "   (0, 15, 'Name')]})"
      ]
     },
     "execution_count": 95,
     "metadata": {},
     "output_type": "execute_result"
    }
   ],
   "source": [
    "train_data[0]"
   ]
  },
  {
   "cell_type": "code",
   "execution_count": 103,
   "id": "dd8764d3",
   "metadata": {},
   "outputs": [
    {
     "name": "stdout",
     "output_type": "stream",
     "text": [
      "NAME                              kimaya sonawane\n",
      "LOCATION                          Thane\n",
      "EMAIL ADDRESS                     indeed.com/r/kimaya- sonawane/1f27a18d2e4b1948\n",
      "DESIGNATION                       Technical Support Engineer\n",
      "LOCATION                          Thane\n",
      "DEGREE                            BE in computer science\n",
      "COLLEGE NAME                      SSVPS’s Late B. S. Deore College of Engineering ,Dhule\n",
      "LOCATION                          Dhule\n",
      "SKILLS                            network engineers, Networking, CCNA, knowledge of Active Directory, DHCP, DNS , Troubleshooting and fix Network related issues (2 years)  CERTIFICATIONS/LICENSES  CCNA(Cisco Certified Network Associate- Routing & Switching) , MCSA (Microsoft Certified Solution Associate)  July 2016 to Present  ADDITIONAL INFORMATION  PROFESSIONAL INTRESTS: • Leading and managing teams • Interacting with People CO CURRICULAR ACTIVITES: • Participated in \"Mech-Tricks\" in IMPULSE 2014 National Level Event. • Participated in \"Mech-Tricks\" in IMPULSE 2013 National Level Event. • Participated in \"Tech-Quiz\" in IMPULSE 2013 National Level Event. • Participated in \"Management Games\" Organised in Ganesh Utsav 2012. • Winner in \"Rangoli Competition\" Organised in Ganesh Utsav 2013.  https://www.indeed.com/r/kimaya-sonawane/1f27a18d2e4b1948?isid=rex-download&ikw=download-top&co=IN https://www.indeed.com/r/kimaya-sonawane/1f27a18d2e4b1948?isid=rex-download&ikw=download-top&co=IN   PERSONAL TRAITS:  • Self Motivated • Adaptable • Confident • Team facilitator • Hard Worker\n"
     ]
    }
   ],
   "source": [
    "doc= nlp_model(train_data[0][0])\n",
    "\n",
    "for ent in doc.ents:\n",
    "    print(\"{:30}    {}\".format(ent.label_.upper(),ent.text))          #{ent.label_.upper(): {30}}- {ent.text}')"
   ]
  },
  {
   "cell_type": "code",
   "execution_count": 104,
   "id": "d1aacb73",
   "metadata": {},
   "outputs": [
    {
     "name": "stdout",
     "output_type": "stream",
     "text": [
      "Requirement already satisfied: fitz in c:\\users\\manoj\\appdata\\local\\programs\\python\\python39\\lib\\site-packages (0.0.1.dev2)\n",
      "Requirement already satisfied: scipy in c:\\users\\manoj\\appdata\\local\\programs\\python\\python39\\lib\\site-packages (from fitz) (1.6.3)\n",
      "Requirement already satisfied: configobj in c:\\users\\manoj\\appdata\\local\\programs\\python\\python39\\lib\\site-packages (from fitz) (5.0.6)\n",
      "Requirement already satisfied: httplib2 in c:\\users\\manoj\\appdata\\local\\programs\\python\\python39\\lib\\site-packages (from fitz) (0.20.2)\n",
      "Requirement already satisfied: configparser in c:\\users\\manoj\\appdata\\local\\programs\\python\\python39\\lib\\site-packages (from fitz) (5.2.0)\n",
      "Requirement already satisfied: nipype in c:\\users\\manoj\\appdata\\local\\programs\\python\\python39\\lib\\site-packages (from fitz) (1.7.0)\n",
      "Requirement already satisfied: numpy in c:\\users\\manoj\\appdata\\local\\programs\\python\\python39\\lib\\site-packages (from fitz) (1.19.5)\n",
      "Requirement already satisfied: nibabel in c:\\users\\manoj\\appdata\\local\\programs\\python\\python39\\lib\\site-packages (from fitz) (3.2.1)\n",
      "Requirement already satisfied: pandas in c:\\users\\manoj\\appdata\\local\\programs\\python\\python39\\lib\\site-packages (from fitz) (1.3.2)\n",
      "Requirement already satisfied: pyxnat in c:\\users\\manoj\\appdata\\local\\programs\\python\\python39\\lib\\site-packages (from fitz) (1.4)\n",
      "Requirement already satisfied: six in c:\\users\\manoj\\appdata\\local\\programs\\python\\python39\\lib\\site-packages (from configobj->fitz) (1.15.0)\n",
      "Requirement already satisfied: pyparsing!=3.0.0,!=3.0.1,!=3.0.2,!=3.0.3,<4,>=2.4.2 in c:\\users\\manoj\\appdata\\local\\programs\\python\\python39\\lib\\site-packages (from httplib2->fitz) (2.4.7)\n",
      "Requirement already satisfied: packaging>=14.3 in c:\\users\\manoj\\appdata\\local\\programs\\python\\python39\\lib\\site-packages (from nibabel->fitz) (20.9)\n",
      "Requirement already satisfied: traits!=5.0,>=4.6 in c:\\users\\manoj\\appdata\\local\\programs\\python\\python39\\lib\\site-packages (from nipype->fitz) (6.3.2)\n",
      "Requirement already satisfied: filelock>=3.0.0 in c:\\users\\manoj\\appdata\\local\\programs\\python\\python39\\lib\\site-packages (from nipype->fitz) (3.0.12)\n",
      "Requirement already satisfied: etelemetry>=0.2.0 in c:\\users\\manoj\\appdata\\local\\programs\\python\\python39\\lib\\site-packages (from nipype->fitz) (0.3.0)\n",
      "Requirement already satisfied: prov>=1.5.2 in c:\\users\\manoj\\appdata\\local\\programs\\python\\python39\\lib\\site-packages (from nipype->fitz) (2.0.0)\n",
      "Requirement already satisfied: networkx>=2.0 in c:\\users\\manoj\\appdata\\local\\programs\\python\\python39\\lib\\site-packages (from nipype->fitz) (2.6.3)\n",
      "Requirement already satisfied: simplejson>=3.8.0 in c:\\users\\manoj\\appdata\\local\\programs\\python\\python39\\lib\\site-packages (from nipype->fitz) (3.17.6)\n",
      "Requirement already satisfied: python-dateutil>=2.2 in c:\\users\\manoj\\appdata\\local\\programs\\python\\python39\\lib\\site-packages (from nipype->fitz) (2.8.1)\n",
      "Requirement already satisfied: rdflib>=5.0.0 in c:\\users\\manoj\\appdata\\local\\programs\\python\\python39\\lib\\site-packages (from nipype->fitz) (6.1.1)\n",
      "Requirement already satisfied: pydot>=1.2.3 in c:\\users\\manoj\\appdata\\local\\programs\\python\\python39\\lib\\site-packages (from nipype->fitz) (1.4.2)\n",
      "Requirement already satisfied: click>=6.6.0 in c:\\users\\manoj\\appdata\\local\\programs\\python\\python39\\lib\\site-packages (from nipype->fitz) (8.0.1)\n",
      "Requirement already satisfied: pytz>=2017.3 in c:\\users\\manoj\\appdata\\local\\programs\\python\\python39\\lib\\site-packages (from pandas->fitz) (2021.1)\n",
      "Requirement already satisfied: requests>=2.20 in c:\\users\\manoj\\appdata\\local\\programs\\python\\python39\\lib\\site-packages (from pyxnat->fitz) (2.25.1)\n",
      "Requirement already satisfied: lxml>=4.3 in c:\\users\\manoj\\appdata\\local\\programs\\python\\python39\\lib\\site-packages (from pyxnat->fitz) (4.7.1)\n",
      "Requirement already satisfied: future>=0.16 in c:\\users\\manoj\\appdata\\local\\programs\\python\\python39\\lib\\site-packages (from pyxnat->fitz) (0.18.2)\n",
      "Requirement already satisfied: pathlib>=1.0 in c:\\users\\manoj\\appdata\\local\\programs\\python\\python39\\lib\\site-packages (from pyxnat->fitz) (1.0.1)\n",
      "Requirement already satisfied: colorama in c:\\users\\manoj\\appdata\\local\\programs\\python\\python39\\lib\\site-packages (from click>=6.6.0->nipype->fitz) (0.4.4)\n",
      "Requirement already satisfied: ci-info>=0.2 in c:\\users\\manoj\\appdata\\local\\programs\\python\\python39\\lib\\site-packages (from etelemetry>=0.2.0->nipype->fitz) (0.2.0)\n",
      "Requirement already satisfied: setuptools in c:\\users\\manoj\\appdata\\local\\programs\\python\\python39\\lib\\site-packages (from rdflib>=5.0.0->nipype->fitz) (57.0.0)\n",
      "Requirement already satisfied: isodate in c:\\users\\manoj\\appdata\\local\\programs\\python\\python39\\lib\\site-packages (from rdflib>=5.0.0->nipype->fitz) (0.6.1)\n",
      "Requirement already satisfied: certifi>=2017.4.17 in c:\\users\\manoj\\appdata\\local\\programs\\python\\python39\\lib\\site-packages (from requests>=2.20->pyxnat->fitz) (2021.5.30)\n",
      "Requirement already satisfied: chardet<5,>=3.0.2 in c:\\users\\manoj\\appdata\\local\\programs\\python\\python39\\lib\\site-packages (from requests>=2.20->pyxnat->fitz) (4.0.0)\n",
      "Requirement already satisfied: idna<3,>=2.5 in c:\\users\\manoj\\appdata\\local\\programs\\python\\python39\\lib\\site-packages (from requests>=2.20->pyxnat->fitz) (2.10)\n",
      "Requirement already satisfied: urllib3<1.27,>=1.21.1 in c:\\users\\manoj\\appdata\\local\\programs\\python\\python39\\lib\\site-packages (from requests>=2.20->pyxnat->fitz) (1.26.6)\n"
     ]
    }
   ],
   "source": [
    "!pip install fitz"
   ]
  },
  {
   "cell_type": "code",
   "execution_count": 105,
   "id": "45720ad5",
   "metadata": {},
   "outputs": [
    {
     "name": "stdout",
     "output_type": "stream",
     "text": [
      "Requirement already satisfied: PyMuPDF in c:\\users\\manoj\\appdata\\local\\programs\\python\\python39\\lib\\site-packages (1.19.4)\n"
     ]
    }
   ],
   "source": [
    "!pip install PyMuPDF"
   ]
  },
  {
   "cell_type": "code",
   "execution_count": 106,
   "id": "04303aa1",
   "metadata": {},
   "outputs": [
    {
     "data": {
      "text/plain": [
       "'Alice Clark \\nAI / Machine Learning \\n \\nDelhi, India Email me on Indeed \\n• \\n20+ years of experience in data handling, design, and development \\n• \\nData Warehouse: Data analysis, star/snow flake scema data modelling and design specific to \\ndata warehousing and business intelligence \\n• \\nDatabase: Experience in database designing, scalability, back-up and recovery, writing and \\noptimizing SQL code and Stored Procedures, creating functions, views, triggers and indexes. \\nCloud platform: Worked on Microsoft Azure cloud services like Document DB, SQL Azure, \\nStream Analytics, Event hub, Power BI, Web Job, Web App, Power BI, Azure data lake \\nanalytics(U-SQL) \\nWilling to relocate anywhere \\n \\nWORK EXPERIENCE \\nSoftware Engineer \\nMicrosoft – Bangalore, Karnataka \\nJanuary 2000 to Present \\n1. Microsoft Rewards Live dashboards: \\nDescription: - Microsoft rewards is loyalty program that rewards Users for browsing and shopping \\nonline. Microsoft Rewards members can earn points when searching with Bing, browsing with \\nMicrosoft Edge and making purchases at the Xbox Store, the Windows Store and the Microsoft \\nStore. Plus, user can pick up bonus points for taking daily quizzes and tours on the Microsoft \\nrewards website. Rewards live dashboards gives a live picture of usage world-wide and by \\nmarkets like US, Canada, Australia, new user registration count, top/bottom performing rewards \\noffers, orders stats and weekly trends of user activities, orders and new user registrations. the \\nPBI tiles gets refreshed in different frequencies starting from 5 seconds to 30 minutes. \\nTechnology/Tools used \\n \\nEDUCATION \\nIndian Institute of Technology – Mumbai \\n2001 \\n \\nSKILLS \\nMachine Learning, Natural Language Processing, and Big Data Handling \\n \\nADDITIONAL INFORMATION \\nProfessional Skills \\n• Excellent analytical, problem solving, communication, knowledge transfer and interpersonal \\nskills with ability to interact with individuals at all the levels \\n• Quick learner and maintains cordial relationship with project manager and team members and \\ngood performer both in team and independent job environments \\n• Positive attitude towards superiors &amp; peers \\n• Supervised junior developers throughout project lifecycle and provided technical assistance \\n'"
      ]
     },
     "execution_count": 106,
     "metadata": {},
     "output_type": "execute_result"
    }
   ],
   "source": [
    "#CONVERTING PDF TO TEXT\n",
    "import sys, fitz\n",
    "\n",
    "fname = 'Alice Clark CV.pdf'\n",
    "doc =fitz.open(fname)\n",
    "\n",
    "text = \"\"\n",
    "for page in doc:\n",
    "    text = text + str(page.getText())\n",
    "tx= \" \".join(text.split(\"\\n\"))\n",
    "text"
   ]
  },
  {
   "cell_type": "code",
   "execution_count": 109,
   "id": "71b24b1c",
   "metadata": {},
   "outputs": [],
   "source": [
    "doc = nlp_model(tx)\n",
    "d1={}\n",
    "for ent in doc.ents:\n",
    "    d1[ent.label_.upper()]=ent.text\n",
    "#     print(\"{:30}    {}\".format(ent.label_.upper(),ent.text))#'{ent.label_.upper(): {30}}- {ent.text}')"
   ]
  },
  {
   "cell_type": "code",
   "execution_count": 110,
   "id": "bc4f1bf7",
   "metadata": {},
   "outputs": [
    {
     "data": {
      "text/plain": [
       "{'LOCATION': 'Delhi',\n",
       " 'DESIGNATION': 'Software Engineer',\n",
       " 'COMPANIES WORKED AT': 'Microsoft',\n",
       " 'COLLEGE NAME': 'Indian Institute of Technology – Mumbai'}"
      ]
     },
     "execution_count": 110,
     "metadata": {},
     "output_type": "execute_result"
    }
   ],
   "source": [
    "d1"
   ]
  },
  {
   "cell_type": "code",
   "execution_count": 112,
   "id": "306b7350",
   "metadata": {},
   "outputs": [
    {
     "name": "stderr",
     "output_type": "stream",
     "text": [
      "ERROR: Could not find a version that satisfies the requirement json (from versions: none)\n",
      "ERROR: No matching distribution found for json\n"
     ]
    }
   ],
   "source": []
  },
  {
   "cell_type": "code",
   "execution_count": 113,
   "id": "8dd29357",
   "metadata": {},
   "outputs": [
    {
     "name": "stdout",
     "output_type": "stream",
     "text": [
      "{\n",
      "    \"LOCATION\": \"Delhi\",\n",
      "    \"DESIGNATION\": \"Software Engineer\",\n",
      "    \"COMPANIES WORKED AT\": \"Microsoft\",\n",
      "    \"COLLEGE NAME\": \"Indian Institute of Technology \\u2013 Mumbai\"\n",
      "}\n"
     ]
    }
   ],
   "source": [
    "import json \n",
    " \n",
    "json_object = json.dumps(d1, indent = 4) \n",
    "print(json_object)"
   ]
  },
  {
   "cell_type": "code",
   "execution_count": null,
   "id": "241adb03",
   "metadata": {},
   "outputs": [],
   "source": []
  }
 ],
 "metadata": {
  "kernelspec": {
   "display_name": "Python 3",
   "language": "python",
   "name": "python3"
  },
  "language_info": {
   "codemirror_mode": {
    "name": "ipython",
    "version": 3
   },
   "file_extension": ".py",
   "mimetype": "text/x-python",
   "name": "python",
   "nbconvert_exporter": "python",
   "pygments_lexer": "ipython3",
   "version": "3.9.5"
  }
 },
 "nbformat": 4,
 "nbformat_minor": 5
}
